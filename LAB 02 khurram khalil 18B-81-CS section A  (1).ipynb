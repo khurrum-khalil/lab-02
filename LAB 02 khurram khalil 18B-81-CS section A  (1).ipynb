{
 "cells": [
  {
   "cell_type": "markdown",
   "metadata": {},
   "source": [
    "# QUESTION NO 1"
   ]
  },
  {
   "cell_type": "code",
   "execution_count": 6,
   "metadata": {},
   "outputs": [
    {
     "name": "stdout",
     "output_type": "stream",
     "text": [
      "12\n"
     ]
    }
   ],
   "source": [
    "from datetime import date\n",
    "final_date = date(2018, 10, 8)\n",
    "initial_date = date(2018, 10, 20)\n",
    "delta = initial_date - final_date\n",
    "print(delta.days)"
   ]
  },
  {
   "cell_type": "markdown",
   "metadata": {},
   "source": [
    "# QUESTION NO 2"
   ]
  },
  {
   "cell_type": "code",
   "execution_count": 25,
   "metadata": {},
   "outputs": [
    {
     "name": "stdout",
     "output_type": "stream",
     "text": [
      "the length of the ladder: 16\n",
      "height of the ladder:  15.454813220625093 feets\n"
     ]
    }
   ],
   "source": [
    "angle = 75 \n",
    "from math import pi\n",
    "radians = (pi*angle)/180\n",
    "length = int(input('the length of the ladder: '))\n",
    "height = length*math.sin(radians)\n",
    "print('height of the ladder: ', height, 'feets')\n"
   ]
  },
  {
   "cell_type": "code",
   "execution_count": 26,
   "metadata": {},
   "outputs": [
    {
     "name": "stdout",
     "output_type": "stream",
     "text": [
      "the length of the ladder: 20\n",
      "height of the ladder:  0.0 feets\n"
     ]
    }
   ],
   "source": [
    "\n",
    "angle = 0\n",
    "from math import pi\n",
    "radians = (pi*angle)/180\n",
    "length = int(input('the length of the ladder: '))\n",
    "height = length*math.sin(radians)\n",
    "print('height of the ladder: ', height, 'feets')"
   ]
  },
  {
   "cell_type": "code",
   "execution_count": 27,
   "metadata": {},
   "outputs": [
    {
     "name": "stdout",
     "output_type": "stream",
     "text": [
      "the length of the ladder: 24\n",
      "height of the ladder:  16.970562748477143 feets\n"
     ]
    }
   ],
   "source": [
    "angle = 45\n",
    "from math import pi\n",
    "radians = (pi*angle)/180\n",
    "length = int(input('the length of the ladder: '))\n",
    "height = length*math.sin(radians)\n",
    "print('height of the ladder: ', height, 'feets')"
   ]
  },
  {
   "cell_type": "code",
   "execution_count": 28,
   "metadata": {},
   "outputs": [
    {
     "name": "stdout",
     "output_type": "stream",
     "text": [
      "the length of the ladder: 24\n",
      "height of the ladder:  23.63538607229299 feets\n"
     ]
    }
   ],
   "source": [
    "angle = 80\n",
    "from math import pi\n",
    "radians = (pi*angle)/180\n",
    "length = int(input('the length of the ladder: '))\n",
    "height = length*math.sin(radians)\n",
    "print('height of the ladder: ', height, 'feets')"
   ]
  },
  {
   "cell_type": "markdown",
   "metadata": {},
   "source": [
    "# QUESTION NO 03"
   ]
  },
  {
   "cell_type": "code",
   "execution_count": 5,
   "metadata": {},
   "outputs": [
    {
     "name": "stdout",
     "output_type": "stream",
     "text": [
      "5.0\n"
     ]
    }
   ],
   "source": [
    "list1 = [23,24,2,26,7,8,11,10,12,16]\n",
    "print(len(list1) / 2)"
   ]
  },
  {
   "cell_type": "code",
   "execution_count": 6,
   "metadata": {},
   "outputs": [
    {
     "data": {
      "text/plain": [
       "8"
      ]
     },
     "execution_count": 6,
     "metadata": {},
     "output_type": "execute_result"
    }
   ],
   "source": [
    "list1[5]"
   ]
  },
  {
   "cell_type": "code",
   "execution_count": 10,
   "metadata": {},
   "outputs": [
    {
     "name": "stdout",
     "output_type": "stream",
     "text": [
      "[2, 7, 8, 10, 11, 12, 16, 23, 24, 26]\n",
      "[26, 24, 23, 16, 12, 11, 10, 8, 7, 2]\n"
     ]
    }
   ],
   "source": [
    "list1.sort()\n",
    "print(list1)\n",
    "list1.reverse()\n",
    "print(list1)"
   ]
  },
  {
   "cell_type": "code",
   "execution_count": 12,
   "metadata": {},
   "outputs": [
    {
     "name": "stdout",
     "output_type": "stream",
     "text": [
      "[24, 23, 16, 12, 11, 10, 8, 7, 2]\n",
      "[24, 23, 16, 12, 11, 10, 8, 7, 2, 26]\n"
     ]
    }
   ],
   "source": [
    "list1.remove(26)\n",
    "print(list1)\n",
    "list1.insert(9,26)\n",
    "print(list1)"
   ]
  },
  {
   "cell_type": "markdown",
   "metadata": {},
   "source": [
    "# QUESTION NO 04"
   ]
  },
  {
   "cell_type": "code",
   "execution_count": 17,
   "metadata": {},
   "outputs": [
    {
     "name": "stdout",
     "output_type": "stream",
     "text": [
      "['jan', 'feb', 'mar', 'may']\n",
      "('jan', 'feb', 'mar', 'may')\n"
     ]
    }
   ],
   "source": [
    "monthL = ['jan','feb','mar','may']\n",
    "monthT = ('jan','feb','mar','may')\n",
    "print(monthL)\n",
    "print(monthT)"
   ]
  },
  {
   "cell_type": "code",
   "execution_count": 18,
   "metadata": {},
   "outputs": [
    {
     "name": "stdout",
     "output_type": "stream",
     "text": [
      "['jan', 'feb', 'mar', 'apr', 'may']\n"
     ]
    }
   ],
   "source": [
    "monthL.insert(3,'apr')\n",
    "print(monthL)"
   ]
  },
  {
   "cell_type": "code",
   "execution_count": 19,
   "metadata": {},
   "outputs": [
    {
     "name": "stdout",
     "output_type": "stream",
     "text": [
      "['jan', 'feb', 'mar', 'apr', 'may', 'jan']\n"
     ]
    }
   ],
   "source": [
    "monthL.append('jan')\n",
    "print(monthL)"
   ]
  },
  {
   "cell_type": "code",
   "execution_count": 20,
   "metadata": {},
   "outputs": [
    {
     "name": "stdout",
     "output_type": "stream",
     "text": [
      "['jan', 'feb', 'mar', 'apr', 'may']\n"
     ]
    }
   ],
   "source": [
    "monthL.pop()\n",
    "print(monthL)"
   ]
  },
  {
   "cell_type": "code",
   "execution_count": 21,
   "metadata": {},
   "outputs": [
    {
     "name": "stdout",
     "output_type": "stream",
     "text": [
      "['jan', 'mar', 'apr', 'may']\n"
     ]
    }
   ],
   "source": [
    "monthL.remove('feb')\n",
    "print(monthL)"
   ]
  },
  {
   "cell_type": "code",
   "execution_count": 22,
   "metadata": {},
   "outputs": [
    {
     "name": "stdout",
     "output_type": "stream",
     "text": [
      "['may', 'apr', 'mar', 'jan']\n"
     ]
    }
   ],
   "source": [
    "monthL.reverse()\n",
    "print(monthL)"
   ]
  },
  {
   "cell_type": "code",
   "execution_count": 23,
   "metadata": {},
   "outputs": [
    {
     "name": "stdout",
     "output_type": "stream",
     "text": [
      "['apr', 'jan', 'mar', 'may']\n"
     ]
    }
   ],
   "source": [
    "monthL.sort()\n",
    "print(monthL)"
   ]
  },
  {
   "cell_type": "markdown",
   "metadata": {},
   "source": [
    "# QUESTION NO 05"
   ]
  },
  {
   "cell_type": "code",
   "execution_count": 32,
   "metadata": {},
   "outputs": [
    {
     "data": {
      "text/plain": [
       "True"
      ]
     },
     "execution_count": 32,
     "metadata": {},
     "output_type": "execute_result"
    }
   ],
   "source": [
    "a = 'anachronistically'\n",
    "b = 'counterintuitive'\n",
    "len(a)>len(b)"
   ]
  },
  {
   "cell_type": "code",
   "execution_count": 33,
   "metadata": {},
   "outputs": [
    {
     "name": "stdout",
     "output_type": "stream",
     "text": [
      "False\n"
     ]
    }
   ],
   "source": [
    "order = 'misinterpretation' > 'misrepresentation'\n",
    "print(order)"
   ]
  },
  {
   "cell_type": "code",
   "execution_count": 34,
   "metadata": {},
   "outputs": [
    {
     "data": {
      "text/plain": [
       "False"
      ]
     },
     "execution_count": 34,
     "metadata": {},
     "output_type": "execute_result"
    }
   ],
   "source": [
    "a = 'floccinaucinihilipilification'\n",
    "'e' in a "
   ]
  },
  {
   "cell_type": "code",
   "execution_count": 35,
   "metadata": {},
   "outputs": [
    {
     "data": {
      "text/plain": [
       "True"
      ]
     },
     "execution_count": 35,
     "metadata": {},
     "output_type": "execute_result"
    }
   ],
   "source": [
    "a = 'counter'\n",
    "b = 'resolution'\n",
    "c = 'counterrevolution'\n",
    "len(c)==len(a)+len(b)"
   ]
  },
  {
   "cell_type": "markdown",
   "metadata": {},
   "source": [
    "# QUESTION NO 06"
   ]
  },
  {
   "cell_type": "code",
   "execution_count": 36,
   "metadata": {},
   "outputs": [
    {
     "name": "stdout",
     "output_type": "stream",
     "text": [
      "6\n",
      "7\n"
     ]
    }
   ],
   "source": [
    "a = 6 \n",
    "b = 7 \n",
    "print(a)\n",
    "print(b)"
   ]
  },
  {
   "cell_type": "code",
   "execution_count": 37,
   "metadata": {},
   "outputs": [
    {
     "name": "stdout",
     "output_type": "stream",
     "text": [
      "6.5\n"
     ]
    }
   ],
   "source": [
    "c = (a+b)/2\n",
    "print(c)"
   ]
  },
  {
   "cell_type": "code",
   "execution_count": 38,
   "metadata": {},
   "outputs": [
    {
     "name": "stdout",
     "output_type": "stream",
     "text": [
      "['paper', 'staples', 'pencils']\n"
     ]
    }
   ],
   "source": [
    "inventory = ['paper', 'staples', 'pencils']\n",
    "print(inventory)\n"
   ]
  },
  {
   "cell_type": "code",
   "execution_count": 39,
   "metadata": {},
   "outputs": [
    {
     "name": "stdout",
     "output_type": "stream",
     "text": [
      "john\n",
      "fitzgerald\n",
      "kennedy\n"
     ]
    }
   ],
   "source": [
    "first = 'john'\n",
    "middle = 'fitzgerald'\n",
    "last = 'kennedy'\n",
    "print(first)\n",
    "print(middle)\n",
    "print(last)"
   ]
  },
  {
   "cell_type": "code",
   "execution_count": 40,
   "metadata": {},
   "outputs": [
    {
     "name": "stdout",
     "output_type": "stream",
     "text": [
      "john fitzgerald kennedy\n"
     ]
    }
   ],
   "source": [
    "full_name = (first + ' ' + middle + ' ' + last)\n",
    "print(full_name)"
   ]
  },
  {
   "cell_type": "markdown",
   "metadata": {},
   "source": [
    "# QUESTION NO 07"
   ]
  },
  {
   "cell_type": "code",
   "execution_count": 47,
   "metadata": {},
   "outputs": [
    {
     "name": "stdout",
     "output_type": "stream",
     "text": [
      "enter value for x co-ordinate: 0\n",
      "enter value for y co-ordinate: 0\n",
      "0.0\n",
      "hit\n"
     ]
    }
   ],
   "source": [
    "import math\n",
    "radius = 10\n",
    "x_2= int(input('enter value for x co-ordinate: '))\n",
    "y_2 = int(input('enter value for y co-ordinate: '))\n",
    "x_1 = 0\n",
    "y_1 = 010\n",
    "distance = math.sqrt((x_2-x_1)**2 + (y_2-y_1)**2)\n",
    "print(distance)\n",
    "if distance < radius: \n",
    " print(\"hit\")\n",
    "else:\n",
    " print(\"miss\")\n"
   ]
  },
  {
   "cell_type": "code",
   "execution_count": 48,
   "metadata": {},
   "outputs": [
    {
     "name": "stdout",
     "output_type": "stream",
     "text": [
      "enter value for x co-ordinate: 10\n",
      "enter value for y co-ordinate: 10\n",
      "14.142135623730951\n",
      "miss\n"
     ]
    }
   ],
   "source": [
    "import math\n",
    "radius = 10\n",
    "x_2= int(input('enter value for x co-ordinate: '))\n",
    "y_2 = int(input('enter value for y co-ordinate: '))\n",
    "x_1 = 0\n",
    "y_1 = 0\n",
    "distance = math.sqrt((x_2-x_1)**2 + (y_2-y_1)**2)\n",
    "print(distance)\n",
    "if distance < radius: \n",
    " print(\"hit\")\n",
    "else:\n",
    " print(\"miss\")"
   ]
  },
  {
   "cell_type": "code",
   "execution_count": 49,
   "metadata": {},
   "outputs": [
    {
     "name": "stdout",
     "output_type": "stream",
     "text": [
      "enter value for x co-ordinate: 6\n",
      "enter value for y co-ordinate: 6\n",
      "8.48528137423857\n",
      "hit\n"
     ]
    }
   ],
   "source": [
    "import math\n",
    "radius = 10\n",
    "x_2= int(input('enter value for x co-ordinate: '))\n",
    "y_2 = int(input('enter value for y co-ordinate: '))\n",
    "x_1 = 0\n",
    "y_1 = 0\n",
    "distance = math.sqrt((x_2-x_1)**2 + (y_2-y_1)**2)\n",
    "print(distance)\n",
    "if distance < radius: \n",
    " print(\"hit\")\n",
    "else:\n",
    " print(\"miss\")"
   ]
  },
  {
   "cell_type": "code",
   "execution_count": 50,
   "metadata": {},
   "outputs": [
    {
     "name": "stdout",
     "output_type": "stream",
     "text": [
      "enter value for x co-ordinate: 7\n",
      "enter value for y co-ordinate: 8\n",
      "10.63014581273465\n",
      "miss\n"
     ]
    }
   ],
   "source": [
    "import math\n",
    "radius = 10\n",
    "x_2= int(input('enter value for x co-ordinate: '))\n",
    "y_2 = int(input('enter value for y co-ordinate: '))\n",
    "x_1 = 0\n",
    "y_1 = 0\n",
    "distance = math.sqrt((x_2-x_1)**2 + (y_2-y_1)**2)\n",
    "print(distance)\n",
    "if distance < radius: \n",
    " print(\"hit\")\n",
    "else:\n",
    " print(\"miss\")"
   ]
  },
  {
   "cell_type": "code",
   "execution_count": null,
   "metadata": {},
   "outputs": [],
   "source": []
  }
 ],
 "metadata": {
  "kernelspec": {
   "display_name": "Python 3",
   "language": "python",
   "name": "python3"
  },
  "language_info": {
   "codemirror_mode": {
    "name": "ipython",
    "version": 3
   },
   "file_extension": ".py",
   "mimetype": "text/x-python",
   "name": "python",
   "nbconvert_exporter": "python",
   "pygments_lexer": "ipython3",
   "version": "3.7.0"
  }
 },
 "nbformat": 4,
 "nbformat_minor": 2
}
